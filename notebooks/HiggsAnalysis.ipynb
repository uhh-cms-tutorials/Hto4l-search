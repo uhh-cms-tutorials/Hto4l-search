{
  "nbformat": 4,
  "nbformat_minor": 0,
  "metadata": {
    "colab": {
      "provenance": []
    },
    "kernelspec": {
      "name": "python3",
      "display_name": "Python 3"
    }
  },
  "cells": [
    {
      "cell_type": "markdown",
      "source": [
        "# Suche nach Higgs-Teilchen"
      ],
      "metadata": {
        "id": "bKYhGoJ0g5mO"
      }
    },
    {
      "cell_type": "markdown",
      "source": [
        "## Defintion von Hilfsfunktionen"
      ],
      "metadata": {
        "id": "5ic4s8hOhJn6"
      }
    },
    {
      "cell_type": "markdown",
      "metadata": {
        "id": "UhbdgpDTpEFG"
      },
      "source": [
        "Zunächst müssen einige Pakete eingelesen werden, die wir später brauchen werden. Mit Hilfe dieser Pakete können wir z.B. die Daten auslesen und Graphen erstellen."
      ]
    },
    {
      "cell_type": "code",
      "metadata": {
        "id": "jLfxJgdipDEI"
      },
      "source": [
        "import numpy as np\n",
        "import math\n",
        "import matplotlib.pyplot as plt\n",
        "import pandas as pd"
      ],
      "execution_count": 1,
      "outputs": []
    },
    {
      "cell_type": "markdown",
      "metadata": {
        "id": "NSMG-9Tfo-eh"
      },
      "source": [
        "Dann werden einige Funktionen und Variablen definiert, die wir später benutzen werden. Die Details sind hier nicht so wichtig, Ihr könnt einfach den Code-Block ausführen."
      ]
    },
    {
      "cell_type": "code",
      "metadata": {
        "id": "B9n4TfozpSnE",
        "colab": {
          "base_uri": "https://localhost:8080/"
        },
        "outputId": "fc2ed162-ebd4-4f72-8154-cdf545428cee"
      },
      "source": [
        "def ReadLeptons(data, event):\n",
        "  \"Leptonen aus csv-Datei auslesen\"\n",
        "\n",
        "  lepton1 = np.array([ data.values[event][0], data.values[event][1], data.values[event][2], data.values[event][3] ])\n",
        "  lepton2 = np.array([ data.values[event][4], data.values[event][5], data.values[event][6], data.values[event][7] ])\n",
        "  lepton3 = np.array([ data.values[event][8], data.values[event][9], data.values[event][10], data.values[event][11] ])\n",
        "  lepton4 = np.array([ data.values[event][12], data.values[event][13], data.values[event][14], data.values[event][15] ])\n",
        "\n",
        "  return [ lepton1, lepton2, lepton3, lepton4 ]\n",
        "\n",
        "\n",
        "def ReadWeight(data, event):\n",
        "  \"Ereignisgewicht aus csv auslesen\"\n",
        "\n",
        "  return data.values[event][16]\n",
        "\n",
        "\n",
        "def Energy(p):\n",
        "  \"Energie von Teilchen berechnen\"\n",
        "\n",
        "  return p[3]\n",
        "\n",
        "\n",
        "def Pt(p):\n",
        "  \"Transversalimpuls von Teilchen berechnen\"\n",
        "\n",
        "  return math.sqrt( p[0]**2 + p[1]**2 )\n",
        "\n",
        "\n",
        "def plot(nbins, min, max, datavalues, mcvalues, mcweights, mcnames, mcolors, xlabel):\n",
        "  \"\"\"\n",
        "  Funktion um einen Graphen zu zeichnen\n",
        "\n",
        "  nbins: Anzahl der Bins (Intervalle)\n",
        "  min: Minimum\n",
        "  max: Maximum\n",
        "  data: Liste der Messwerte in Daten\n",
        "  mcdatalist: Liste der Messwerte in Simulation\n",
        "  weights: Liste der Gewichte in Simulation\n",
        "  labels: Liste der Labels für Simulation\n",
        "  colors: Liste der Farben für Simulation\n",
        "  xlabel: Beschriftung der x-Achse\n",
        "  \"\"\"\n",
        "\n",
        "  fig = plt.figure()\n",
        "  fig.subplots_adjust()\n",
        "  ax1 = fig.add_subplot()\n",
        "  ax1.set_ylabel(\"Anzahl Events\")\n",
        "  ax1.set_xlabel(xlabel)\n",
        "  plt.hist( mcvalues, weights=mcweights , bins=nbins, range=(min,max), label=mcnames, color=mcolors, stacked=True )\n",
        "  datahist,bins = np.histogram(datavalues, bins=nbins, range=(min,max))\n",
        "  binsize = (max-min)/nbins\n",
        "  real_bins = [x+binsize/2 for x in bins]\n",
        "  del real_bins[-1]\n",
        "  yerror = [math.sqrt(x) for x in datahist]\n",
        "  xerror = [binsize/2 for x in datahist]\n",
        "  plt.errorbar( real_bins, datahist, yerr=yerror, xerr=xerror, fmt=\"o\", label=\"Daten\", color=\"black\" )\n",
        "  plt.legend(loc=\"upper right\")\n",
        "  plt.show()\n",
        "\n",
        "\n",
        "def PrintProgress(event, Nevents):\n",
        "  \"Print Funktion um den Fortschritt des Lesens zu sehen\"\n",
        "\n",
        "  percentage = PrintProgress.counter*0.2\n",
        "  if event > percentage*Nevents:\n",
        "    print('- ',int(percentage*100),'% (',event, 'of', Nevents, 'events processed)')\n",
        "    PrintProgress.counter += 1\n",
        "  if event == Nevents-1:\n",
        "    PrintProgress.counter = 0\n",
        "\n",
        "\n",
        "# Dateinamen der csv files\n",
        "pathtocsv = \"https://raw.githubusercontent.com/uhh-cms-tutorials/Hto4l-search/refs/heads/main/data/\"\n",
        "Example_files = [\n",
        "    'DATA_Elektron_2011.csv'\n",
        "]\n",
        "Data_files = [\n",
        "    'DATA_Elektron_2011.csv',\n",
        "    'DATA_Myon_2011.csv',\n",
        "    'DATA_Elektron_2012.csv',\n",
        "    'DATA_Myon_2012.csv'\n",
        "]\n",
        "ZZ_files = [\n",
        "    'MC_ZZ_2el2mu_2011.csv',\n",
        "    'MC_ZZ_4el_2011.csv',\n",
        "    'MC_ZZ_4mu_2011.csv',\n",
        "    'MC_ZZ_2el2mu_2012.csv',\n",
        "    'MC_ZZ_4el_2012.csv',\n",
        "    'MC_ZZ_4mu_2012.csv',\n",
        "]\n",
        "Higgs_files = [\n",
        "    'MC_Higgs_2011.csv',\n",
        "    'MC_Higgs_2012.csv',\n",
        "]\n",
        "\n",
        "# Initialisiert den Fortschrittszähler\n",
        "PrintProgress.counter = 0\n",
        "\n",
        "print(\"Alle Funktionen und Variablen definiert\")"
      ],
      "execution_count": 3,
      "outputs": [
        {
          "output_type": "stream",
          "name": "stdout",
          "text": [
            "Alle Funktionen und Variablen definiert\n"
          ]
        }
      ]
    },
    {
      "cell_type": "markdown",
      "source": [
        "Im folgenden wird eine Funktion definiert, um die invariante Masse eines Teilchens zu berechnen. Dies ist hier erstmal nur ein Platzhalter, der immer 0 zurückgibt, die eigentliche Berechnung muss später noch hinzugefügt werden. Ersteinmal könnt Ihr die Zelle einfach ausführen und weitergehen."
      ],
      "metadata": {
        "id": "0uszrqWaI6rR"
      }
    },
    {
      "cell_type": "markdown",
      "source": [
        "## Berechnung der invarianten Masse"
      ],
      "metadata": {
        "id": "kUDpia5fhWWm"
      }
    },
    {
      "cell_type": "code",
      "source": [
        "def Mass(p):\n",
        "  \"\"\"\n",
        "  Invariante Masse von Teilchen p berechnen\n",
        "\n",
        "  p ist z.B. ein Elektron, d.h. man kann die Energie\n",
        "  von p bekommen als p[3] oder die x-Komponente des\n",
        "  Impulses als p[0].\n",
        "  \"\"\"\n",
        "\n",
        "  # Die Masse wird erstmal auf 0 gesetzt\n",
        "  m = 0\n",
        "\n",
        "  # Nun muss die invariante Masse berechnet werden.\n",
        "  # Die Formel für das Quadrat der Masse lautet:\n",
        "  # m2 = - px*px - py*py - pz*pz + E*E\n",
        "  #\n",
        "  # Wenn m2 > 0 ist, kann die Wurzel gezogen werden:\n",
        "  # m = math.sqrt( m2 )\n",
        "  #\n",
        "  # Falls m2 < 0, belassen wir den Wert bei 0\n",
        "\n",
        "  # >>>\n",
        "  # Code für Massenberechnung hier einfügen\n",
        "\n",
        "\n",
        "\n",
        "  # <<<\n",
        "\n",
        "  return m"
      ],
      "metadata": {
        "id": "WzpBy5NqC85F"
      },
      "execution_count": 4,
      "outputs": []
    },
    {
      "cell_type": "markdown",
      "source": [
        "## Datenanalyse"
      ],
      "metadata": {
        "id": "cB0VSmuQhd_4"
      }
    },
    {
      "cell_type": "markdown",
      "metadata": {
        "id": "oi9TVFpCprLN"
      },
      "source": [
        "Nun wollen wir Kollisionsdaten analysieren!\n",
        "\n",
        "Die Daten liegen wieder in dem aus der Vorübung bekannten Tabellenformat (CSV-Format) vor:\n",
        "<div>\n",
        "  <center>\n",
        "    <img src=\"https://raw.githubusercontent.com/uhh-cms-tutorials/Hto4l-search/refs/heads/main/data/CSV.png\" width=\"500\"/>\n",
        "  </center>\n",
        "</div>\n",
        "\n",
        "Wir betrachten als Beispiel zunächst einmal die Energie und den Transversalimpuls pT des ersten Leptons in jedem Kollisionsereignis (\"Event\"). Dazu müssen wir über jede Zeile der CSV-Tabelle laufen, die x- und y-Komponenten des Impulses des ersten Leptons auslesen und daraus pT berechnen.\n",
        "\n",
        "Dafür ist folgende Funktion `ReconstructEvents(files)` definiert. Sie bekommt als Argument eine Liste aller Namen der CSV-Dateien, die analysiert werden sollen und berechnet dann für sämtliche Ereignisse Energie und pT des ersten Leptons. Die berechneten Werte werden als zwei Listen in einem speziellen Format, einem sog. dictionary, zurückgegeben, das folgende Struktur hat:\n",
        "```\n",
        "results = {\n",
        "    \"E_Lepton1\"  : [ Wert Ereignis 1, Wert Ereignis 2, ... ],\n",
        "    \"pT_Lepton1\" : [ Wert Ereignis 1, Wert Ereignis 2, ... ],\n",
        "}\n",
        "```\n",
        "Man kann dann bequem auf die Listen zugreifen, z.B. für die Energie:\n",
        "```\n",
        "Energien = results[\"E_Lepton1\"]\n",
        "```\n",
        "Wir probieren das im nächsten Schritt aus, Du musst also nicht sofort jede Zeile der Funktion verstehen."
      ]
    },
    {
      "cell_type": "code",
      "source": [
        "def ReconstructEvents(files):\n",
        "  \"\"\"\n",
        "  Rekonstruiert die uns interessierenden Observablen in jedem Ereignis\n",
        "  und speichert sie in Listen ab.\n",
        "\n",
        "  Gibt ein dictionary mit folgender Struktur zurück:\n",
        "  - key:   Name der Observable, z.B. \"E_Lepton1\"\n",
        "  - value: Liste der Werte der Observablen für alle Events\n",
        "  \"\"\"\n",
        "\n",
        "  # In diesem 'dict' speichern wir die Ergebnisse\n",
        "  # Für jede Observable wird eine leere Liste erstellt, in die wir\n",
        "  # weiter unten die Werte der Observablen pro Event eintragen\n",
        "  results = {\n",
        "    \"E_Lepton1\"  : [],\n",
        "    \"pT_Lepton1\" : [],\n",
        "    \"weight\"     : [],\n",
        "  }\n",
        "\n",
        "  # Nun laufen wir über alle Ereignisse in den angegeben Datein\n",
        "  # und rekonstruieren und speichern die Observablen, die uns interessieren\n",
        "  for file_name in files:\n",
        "    print(f\"Analysiere Daten aus '{file_name}'\")\n",
        "    data = pd.read_csv(pathtocsv+file_name, header=None)\n",
        "    Nevents = len(data)\n",
        "    for event in range(Nevents):\n",
        "      PrintProgress(event, Nevents)\n",
        "\n",
        "      ### Hier steht der eigentliche Analyse-Code\n",
        "\n",
        "      # Leptonen einlesen\n",
        "      Leptonen = ReadLeptons(data, event)\n",
        "\n",
        "      # \"Leptons\" ist eine Liste, die die vier Leptonen im Event enthält\n",
        "      # Wir holen uns daraus jetzt das erste Lepton\n",
        "      Lepton1 = Leptonen[0]\n",
        "\n",
        "      # Nun können wir die Energie und die Impulskomponenten des ersten\n",
        "      # Leptons auslesen. Dazu nutzen wir die oben definierten Funktionen\n",
        "      # \"Energy(p)\" und \"Pt(p)\", wobei \"p\" für \"particle\" (hier: unser Lepton)\n",
        "      # steht\n",
        "      E_Lepton1  = Energy(Lepton1)\n",
        "      pT_Lepton1 = Pt(Lepton1)\n",
        "\n",
        "      # Abschließend speichern wir die Energie und und den Transversalimpuls pT\n",
        "      # des ersten Leptons in den \"results\"-Listen\n",
        "      results[\"E_Lepton1\"].append( E_Lepton1 )\n",
        "      results[\"pT_Lepton1\"].append( pT_Lepton1 )\n",
        "\n",
        "      # Simulierte Ereignisse haben aus technischen Gründen noch ein Gewicht.\n",
        "      # Für Daten ist das Gewicht einfach 1\n",
        "      results[\"weight\"].append( ReadWeight(data, event) )\n",
        "\n",
        "      #########\n",
        "\n",
        "    print(\"Fertig!\\n\")\n",
        "\n",
        "  return results\n"
      ],
      "metadata": {
        "id": "lLIfXZOGOoac"
      },
      "execution_count": 5,
      "outputs": []
    },
    {
      "cell_type": "markdown",
      "source": [
        "Wir schauen uns als Beispiel zunächst einen sehr kleinen Datensatz an, der oben bereits unter dem Namen `Example_files` definiert ist und den wir einfach an `ReconstructEvents` übergeben können:"
      ],
      "metadata": {
        "id": "gZ-9aqYiPZzX"
      }
    },
    {
      "cell_type": "code",
      "source": [
        "Observablen = ReconstructEvents(Example_files)"
      ],
      "metadata": {
        "colab": {
          "base_uri": "https://localhost:8080/"
        },
        "id": "31jqNfOJQKQT",
        "outputId": "e6446334-328c-4644-875b-d6bc99959dc7"
      },
      "execution_count": 6,
      "outputs": [
        {
          "output_type": "stream",
          "name": "stdout",
          "text": [
            "Analysiere Daten aus 'DATA_Elektron_2011.csv'\n",
            "-  0 % ( 1 of 7 events processed)\n",
            "-  20 % ( 2 of 7 events processed)\n",
            "-  40 % ( 3 of 7 events processed)\n",
            "-  60 % ( 5 of 7 events processed)\n",
            "-  80 % ( 6 of 7 events processed)\n",
            "Fertig!\n",
            "\n"
          ]
        }
      ]
    },
    {
      "cell_type": "markdown",
      "source": [
        "Die Ergebnisse der Analyse, also die Energie- und pT-Werte des ersten Leptons in jedem Event sind nun in `Observablen` gespeichert. Schaut Euch den Inhalt im folgenden an, um eine Vorstellung von der Datenstruktur zu bekommen."
      ],
      "metadata": {
        "id": "RrIj13icRN16"
      }
    },
    {
      "cell_type": "code",
      "source": [
        "Observablen"
      ],
      "metadata": {
        "colab": {
          "base_uri": "https://localhost:8080/"
        },
        "id": "E7krHUnvQTUr",
        "outputId": "0d792a0a-e80a-4257-f1b8-2c4d1b92a35d"
      },
      "execution_count": 7,
      "outputs": [
        {
          "output_type": "execute_result",
          "data": {
            "text/plain": [
              "{'E_Lepton1': [np.float64(46.2967),\n",
              "  np.float64(352.097),\n",
              "  np.float64(49.6757),\n",
              "  np.float64(112.039),\n",
              "  np.float64(87.628),\n",
              "  np.float64(61.6886),\n",
              "  np.float64(215.87)],\n",
              " 'pT_Lepton1': [46.28007887223184,\n",
              "  59.008130545172335,\n",
              "  45.147319128603854,\n",
              "  32.0734912469784,\n",
              "  43.32793499083472,\n",
              "  52.6789044374501,\n",
              "  113.41629617378669],\n",
              " 'weight': [np.float64(1.0),\n",
              "  np.float64(1.0),\n",
              "  np.float64(1.0),\n",
              "  np.float64(1.0),\n",
              "  np.float64(1.0),\n",
              "  np.float64(1.0),\n",
              "  np.float64(1.0)]}"
            ]
          },
          "metadata": {},
          "execution_count": 7
        }
      ]
    },
    {
      "cell_type": "markdown",
      "source": [
        "Nun wollen wir mehr als nur die sieben Beispiel-Events analysieren!\n",
        "\n",
        "Wir betrachten zwei verschiedene Arten von Daten:\n",
        "1. Die eigentlichen, mit dem CMS-Detektor gemessenen Daten\n",
        "2. Simulierte Daten, die zum einen den gesuchten Higgs-Signalprozess simulieren und zum anderen Untergrundereignisse aus ZZ-Produktion simulieren:\n",
        "  - Signal: Higgs --> 4 Leptonen\n",
        "<div>\n",
        "  <center>\n",
        "    <img src=\"https://raw.githubusercontent.com/uhh-cms-tutorials/Hto4l-search/refs/heads/main/figures/Higgs4l.png\" width=\"400\"/>\n",
        "  </center>\n",
        "</div>\n",
        "  - Untergrund: ZZ --> 4 Leptonen\n",
        "<div>\n",
        "  <center>\n",
        "    <img src=\"https://raw.githubusercontent.com/uhh-cms-tutorials/Hto4l-search/refs/heads/main/figures/ZZ.png\" width=\"400\"/>\n",
        "  </center>\n",
        "</div>\n",
        "\n",
        "Wir lesen die entsprechenden Datensätze im folgenden ein."
      ],
      "metadata": {
        "id": "AbEK27e1QNhx"
      }
    },
    {
      "cell_type": "code",
      "source": [
        "Observablen_Daten = ReconstructEvents(Data_files)\n",
        "Observablen_ZZ    = ReconstructEvents(ZZ_files)\n",
        "Observablen_Higgs = ReconstructEvents(Higgs_files)"
      ],
      "metadata": {
        "colab": {
          "base_uri": "https://localhost:8080/"
        },
        "id": "1D4kLYEuzY4E",
        "outputId": "2f5ce415-3b59-423f-9b66-44531f43a8b4"
      },
      "execution_count": 8,
      "outputs": [
        {
          "output_type": "stream",
          "name": "stdout",
          "text": [
            "Analysiere Daten aus 'DATA_Elektron_2011.csv'\n",
            "-  0 % ( 1 of 7 events processed)\n",
            "-  20 % ( 2 of 7 events processed)\n",
            "-  40 % ( 3 of 7 events processed)\n",
            "-  60 % ( 5 of 7 events processed)\n",
            "-  80 % ( 6 of 7 events processed)\n",
            "Fertig!\n",
            "\n",
            "Analysiere Daten aus 'DATA_Myon_2011.csv'\n",
            "-  0 % ( 1 of 31 events processed)\n",
            "-  20 % ( 7 of 31 events processed)\n",
            "-  40 % ( 13 of 31 events processed)\n",
            "-  60 % ( 19 of 31 events processed)\n",
            "-  80 % ( 25 of 31 events processed)\n",
            "Fertig!\n",
            "\n",
            "Analysiere Daten aus 'DATA_Elektron_2012.csv'\n",
            "-  0 % ( 1 of 41 events processed)\n",
            "-  20 % ( 9 of 41 events processed)\n",
            "-  40 % ( 17 of 41 events processed)\n",
            "-  60 % ( 25 of 41 events processed)\n",
            "-  80 % ( 33 of 41 events processed)\n",
            "Fertig!\n",
            "\n",
            "Analysiere Daten aus 'DATA_Myon_2012.csv'\n",
            "-  0 % ( 1 of 199 events processed)\n",
            "-  20 % ( 40 of 199 events processed)\n",
            "-  40 % ( 80 of 199 events processed)\n",
            "-  60 % ( 120 of 199 events processed)\n",
            "-  80 % ( 160 of 199 events processed)\n",
            "Fertig!\n",
            "\n",
            "Analysiere Daten aus 'MC_ZZ_2el2mu_2011.csv'\n",
            "-  0 % ( 1 of 66122 events processed)\n",
            "-  20 % ( 13225 of 66122 events processed)\n",
            "-  40 % ( 26449 of 66122 events processed)\n",
            "-  60 % ( 39674 of 66122 events processed)\n",
            "-  80 % ( 52898 of 66122 events processed)\n",
            "Fertig!\n",
            "\n",
            "Analysiere Daten aus 'MC_ZZ_4el_2011.csv'\n",
            "-  0 % ( 1 of 67895 events processed)\n",
            "-  20 % ( 13580 of 67895 events processed)\n",
            "-  40 % ( 27159 of 67895 events processed)\n",
            "-  60 % ( 40738 of 67895 events processed)\n",
            "-  80 % ( 54317 of 67895 events processed)\n",
            "Fertig!\n",
            "\n",
            "Analysiere Daten aus 'MC_ZZ_4mu_2011.csv'\n",
            "-  0 % ( 1 of 101556 events processed)\n",
            "-  20 % ( 20312 of 101556 events processed)\n",
            "-  40 % ( 40623 of 101556 events processed)\n",
            "-  60 % ( 60934 of 101556 events processed)\n",
            "-  80 % ( 81245 of 101556 events processed)\n",
            "Fertig!\n",
            "\n",
            "Analysiere Daten aus 'MC_ZZ_2el2mu_2012.csv'\n",
            "-  0 % ( 1 of 61473 events processed)\n",
            "-  20 % ( 12295 of 61473 events processed)\n",
            "-  40 % ( 24590 of 61473 events processed)\n",
            "-  60 % ( 36884 of 61473 events processed)\n",
            "-  80 % ( 49179 of 61473 events processed)\n",
            "Fertig!\n",
            "\n",
            "Analysiere Daten aus 'MC_ZZ_4el_2012.csv'\n",
            "-  0 % ( 1 of 60435 events processed)\n",
            "-  20 % ( 12088 of 60435 events processed)\n",
            "-  40 % ( 24175 of 60435 events processed)\n",
            "-  60 % ( 36262 of 60435 events processed)\n",
            "-  80 % ( 48349 of 60435 events processed)\n",
            "Fertig!\n",
            "\n",
            "Analysiere Daten aus 'MC_ZZ_4mu_2012.csv'\n",
            "-  0 % ( 1 of 97214 events processed)\n",
            "-  20 % ( 19443 of 97214 events processed)\n",
            "-  40 % ( 38886 of 97214 events processed)\n",
            "-  60 % ( 58329 of 97214 events processed)\n",
            "-  80 % ( 77772 of 97214 events processed)\n",
            "Fertig!\n",
            "\n",
            "Analysiere Daten aus 'MC_Higgs_2011.csv'\n",
            "-  0 % ( 1 of 39062 events processed)\n",
            "-  20 % ( 7813 of 39062 events processed)\n",
            "-  40 % ( 15625 of 39062 events processed)\n",
            "-  60 % ( 23438 of 39062 events processed)\n",
            "-  80 % ( 31250 of 39062 events processed)\n",
            "Fertig!\n",
            "\n",
            "Analysiere Daten aus 'MC_Higgs_2012.csv'\n",
            "-  0 % ( 1 of 31890 events processed)\n",
            "-  20 % ( 6379 of 31890 events processed)\n",
            "-  40 % ( 12757 of 31890 events processed)\n",
            "-  60 % ( 19135 of 31890 events processed)\n",
            "-  80 % ( 25513 of 31890 events processed)\n",
            "Fertig!\n",
            "\n"
          ]
        }
      ]
    },
    {
      "cell_type": "markdown",
      "source": [
        "## Ergebnisse"
      ],
      "metadata": {
        "id": "3iK2BH5RhvEr"
      }
    },
    {
      "cell_type": "markdown",
      "metadata": {
        "id": "LKDWLAbPqPnX"
      },
      "source": [
        "Da wir sehr viele Ereignisse eingelesen haben, wird das Ausdrucken der einzelnen Werte sehr unübersichtlich. Wir können die Observablen stattdessen in einem Histogramm grafisch darstellen. Dafür nutzen wir die oben definierte `plot`-Funktion. Die Nutzung ist im folgenden am Beispiel der Lepton-Energie gezeigt:\n"
      ]
    },
    {
      "cell_type": "code",
      "source": [
        "# Zuerst holen wir uns die Liste mit den Energien des ersten Leptons für\n",
        "# Ereignisse in den gemessenen Daten\n",
        "Gemessene_Daten = Observablen_Daten[\"E_Lepton1\"]\n",
        "\n",
        "# Dann machen wir dasselbe für alle simulierten Prozesse. Da es mehrere gibt,\n",
        "# speichern wir die Listen mit den Energiewerten nacheinander in einer Liste\n",
        "Simulierte_Daten = [ Observablen_ZZ[\"E_Lepton1\"], Observablen_Higgs[\"E_Lepton1\"] ]\n",
        "\n",
        "# Für die simulierten Daten brauchen wir noch\n",
        "labels  = [ \"ZZ\",       \"Higgs\"       ]\n",
        "colors  = [ \"#069AF3\",  \"#EF4026\"     ]\n",
        "weights = [ Observablen_ZZ[\"weight\"], Observablen_Higgs[\"weight\"]]\n",
        "\n",
        "# Damit erstellen wir jetzt ein Histogramm der Energien des ersten Leptons\n",
        "# Wir wählen 20 Bins (Intervalle) im Bereich zwischen 0 und 400 GeV\n",
        "Nbins = 20\n",
        "xmin = 0\n",
        "xmax = 400\n",
        "# Als Namen der Observablen für das x-Achsenlabel setzen wir:\n",
        "name = \"Energie Lepton 1 (GeV)\"\n",
        "# Damit rufen wir obige Funktion zum Erstellen des Histogramms auf\n",
        "plot(Nbins, xmin, xmax, Gemessene_Daten, Simulierte_Daten, weights, labels, colors, name)"
      ],
      "metadata": {
        "colab": {
          "base_uri": "https://localhost:8080/",
          "height": 449
        },
        "id": "oOdx4VtE4bSj",
        "outputId": "f752b2d1-61a7-403a-d19a-ada398fd6931"
      },
      "execution_count": 9,
      "outputs": [
        {
          "output_type": "display_data",
          "data": {
            "text/plain": [
              "<Figure size 640x480 with 1 Axes>"
            ],
            "image/png": "[encoded data removed]"
          },
          "metadata": {}
        }
      ]
    },
    {
      "cell_type": "markdown",
      "source": [
        "Analog können wir das für das Lepton-pT machen:"
      ],
      "metadata": {
        "id": "Csc3MQyHflTM"
      }
    },
    {
      "cell_type": "code",
      "source": [
        "# Nun holen wir uns die Werte des Lepton-pT des ersten Leptons\n",
        "Gemessene_Daten = Observablen_Daten[\"pT_Lepton1\"]\n",
        "Simulierte_Daten = [ Observablen_ZZ[\"pT_Lepton1\"], Observablen_Higgs[\"pT_Lepton1\"] ]\n",
        "\n",
        "# Die labels usw. für die simulierten Daten müssen wir nicht neu definieren,\n",
        "# sondern können sie einfach von oben wiederverwenden. Wir passen aber die\n",
        "# x-Achse entsprechend der neuen Observable an\n",
        "Nbins = 20\n",
        "xmin = 0\n",
        "xmax = 200\n",
        "name = \"pT Lepton 1 (GeV)\"\n",
        "plot(Nbins, xmin, xmax, Gemessene_Daten, Simulierte_Daten, weights, labels, colors, name)"
      ],
      "metadata": {
        "colab": {
          "base_uri": "https://localhost:8080/",
          "height": 449
        },
        "id": "TKg5uspw44IQ",
        "outputId": "37733d16-fa84-44ec-aced-7beaf70880c1"
      },
      "execution_count": 10,
      "outputs": [
        {
          "output_type": "display_data",
          "data": {
            "text/plain": [
              "<Figure size 640x480 with 1 Axes>"
            ],
            "image/png": "[encoded data removed]"
          },
          "metadata": {}
        }
      ]
    },
    {
      "cell_type": "markdown",
      "source": [
        "Wir wollen uns nun die Energie- und pT-Verteilungen näher anschauen.\n",
        "- Kann man Higgs-Ereignisse (rot) von ZZ-Untergrundereignissen (blau) unterscheiden?\n",
        "- Was meint Ihr: enthalten die Daten (schwarze Punkte) Higgs-Ereignisse?\n",
        "- Stimmen die Daten mit der Simulation überein?\n"
      ],
      "metadata": {
        "id": "rR-HUEUnP5Il"
      }
    },
    {
      "cell_type": "markdown",
      "source": [
        "## Fortgeschrittene Analyse 1: Energie und pT von Lepton 2"
      ],
      "metadata": {
        "id": "p6pyNFj9h3QN"
      }
    },
    {
      "cell_type": "markdown",
      "source": [
        "Ändern sich die Energie- und pT-Verteilungen für die weiteren Leptonen, z.B. für das jeweils zweite Lepton im Event?\n",
        "\n",
        "Gehe wie folgt vor:\n",
        "1. Ergänze die Datenanalysefunktion `ReconstructEvents` so, dass sie auch Energie und pT des zweiten Leptons bestimmt und zurückgibt.\n",
        "2. Stelle Energie und pT des zweiten Leptons wieder als Histogramme dar.\n",
        "\n",
        "**Hinweis**: nachdem Du `ReconstructEvents` angepasst hast, musst Du die Zellen im Abschnitt \"Datenanalyse\" erneut ausführen. Dadurch läuft die Analyse erneut über die Daten, damit nun auch die Werte des zweiten Leptons berechnet und gespeichert werden."
      ],
      "metadata": {
        "id": "LH0SBllvgjSy"
      }
    },
    {
      "cell_type": "code",
      "source": [],
      "metadata": {
        "id": "l_fcmJ3Os5we"
      },
      "execution_count": null,
      "outputs": []
    },
    {
      "cell_type": "markdown",
      "source": [
        "## Fortgeschrittene Analye 2: invariante Masse des Higgs-Teilchens"
      ],
      "metadata": {
        "id": "UFDTguyNixyF"
      }
    },
    {
      "cell_type": "markdown",
      "source": [
        "Nun nehmen wir an, dass die vier Leptonen aus dem Zerfall eines Higgs-Teilchens entstanden sind. Erstelle ein Histogramm der invarianten Masse des Ursprungsteilchens.\n",
        "\n",
        "Dafür müssen wir zuerst das Ursprungsteilchen aus den gemessenen Leptonen rekonstruieren und dann seine invariante Masse bestimmen. Gehe dafür wie folgt vor:\n",
        "1. erweitere ReconstructEvents, sodass das Higgs-Teilchen als Summe der Leptonen rekonstruiert wird.\n",
        "2. bestimme die invariante Masse des so rekonstruierten Higgs-Teilchens. Dafür kannst Du die Funktion `Mass(p)` verwenden, die oben im Abschnitt \"Berechnung der invarianten Masse\" definiert ist. Die Funktion ist aber noch unvollständing, die Berechnung der Masse muss noch implementiert werden.\n",
        "3. stelle die invariante Masse als Histogramm dar.\n",
        "\n",
        "Kann man hier Higgs-Ereignisse von ZZ-Untergrundereignissen unterscheiden? Gibt es Higgs-Teilchen in den Daten?"
      ],
      "metadata": {
        "id": "LJHojJKUi3xE"
      }
    },
    {
      "cell_type": "code",
      "source": [],
      "metadata": {
        "id": "7dISiT2YIZmq"
      },
      "execution_count": null,
      "outputs": []
    }
  ]
}