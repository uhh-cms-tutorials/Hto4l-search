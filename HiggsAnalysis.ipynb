{
  "nbformat": 4,
  "nbformat_minor": 0,
  "metadata": {
    "colab": {
      "provenance": []
    },
    "kernelspec": {
      "name": "python3",
      "display_name": "Python 3"
    }
  },
  "cells": [
    {
      "cell_type": "markdown",
      "metadata": {
        "id": "UhbdgpDTpEFG"
      },
      "source": [
        "Zunächst müssen einige Pakete eingelesen werden, die wir später brauchen werden. Mit Hilfe dieser Pakete können wir z.B. die Daten auslesen und Graphen erstellen."
      ]
    },
    {
      "cell_type": "code",
      "metadata": {
        "id": "jLfxJgdipDEI"
      },
      "source": [
        "import numpy as np\n",
        "import math\n",
        "import matplotlib.pyplot as plt\n",
        "import pandas as pd"
      ],
      "execution_count": 1,
      "outputs": []
    },
    {
      "cell_type": "markdown",
      "metadata": {
        "id": "NSMG-9Tfo-eh"
      },
      "source": [
        "Dann definieren wir uns einige eigene Funktionen, die wir später benutzen werden. Die Details sind hier erstmal nicht so wichtig."
      ]
    },
    {
      "cell_type": "code",
      "metadata": {
        "id": "B9n4TfozpSnE",
        "colab": {
          "base_uri": "https://localhost:8080/"
        },
        "outputId": "2ae8d17c-a98e-48d6-a475-29a14747dcc5"
      },
      "source": [
        "def ReadLeptons(data, event):\n",
        "  \"Leptonen aus csv-Datei auslesen\"\n",
        "\n",
        "  lepton1 = np.array([ data.values[event][0], data.values[event][1], data.values[event][2], data.values[event][3] ])\n",
        "  lepton2 = np.array([ data.values[event][4], data.values[event][5], data.values[event][6], data.values[event][7] ])\n",
        "  lepton3 = np.array([ data.values[event][8], data.values[event][9], data.values[event][10], data.values[event][11] ])\n",
        "  lepton4 = np.array([ data.values[event][12], data.values[event][13], data.values[event][14], data.values[event][15] ])\n",
        "\n",
        "  return [ lepton1, lepton2, lepton3, lepton4 ]\n",
        "\n",
        "\n",
        "def ReadWeight(data, event):\n",
        "  \"Ereignisgewicht aus csv auslesen\"\n",
        "\n",
        "  return data.values[event][16]\n",
        "\n",
        "\n",
        "def Energy(p):\n",
        "  \"Energie von Teilchen berechnen\"\n",
        "\n",
        "  return p[3]\n",
        "\n",
        "\n",
        "def Pt(p):\n",
        "  \"Transversalimpuls von Teilchen berechnen\"\n",
        "\n",
        "  return math.sqrt( p[0]**2 + p[1]**2 )\n",
        "\n",
        "\n",
        "def Mass(p):\n",
        "  \"Invariante Masse von Teilchen berechnen\"\n",
        "\n",
        "  mass = 0\n",
        "  '''\n",
        "  hier muss noch die Masse berechnet werden\n",
        "  Die Formel lautet:\n",
        "  m2 = - px*px - py*py - pz*pz + E*E\n",
        "\n",
        "  Wenn m2 > 0 ist, kann die Wurzel gezogen werden:\n",
        "  mass = math.sqrt( m2 )\n",
        "\n",
        "  Falls m2 < 0, sollten wir einen anderen Wert einsetzen:\n",
        "  mass = 0\n",
        "  '''\n",
        "  return mass\n",
        "\n",
        "\n",
        "def plot(nbins, min, max, datavalues, mcvalues, mcweights, mcnames, xlabel):\n",
        "  \"Funktion um einen Graphen zu zeichnen\"\n",
        "\n",
        "  fig = plt.figure()\n",
        "  fig.subplots_adjust()\n",
        "  ax1 = fig.add_subplot()\n",
        "  ax1.set_ylabel(\"Events\")\n",
        "  ax1.set_xlabel(xlabel)\n",
        "  plt.hist( mcvalues, weights = mcweights , bins=nbins, range=(min,max), label=mcnames, stacked=True )\n",
        "  datahist,bins = np.histogram(datavalues, bins=nbins, range=(min,max))\n",
        "  binsize = (max-min)/nbins\n",
        "  real_bins = [x+binsize/2 for x in bins]\n",
        "  del real_bins[-1]\n",
        "  yerror = [math.sqrt(x) for x in datahist]\n",
        "  xerror = [binsize/2 for x in datahist]\n",
        "  plt.errorbar( real_bins, datahist, yerr=yerror, xerr=xerror, fmt=\"o\", label=\"Data\", color=\"black\" )\n",
        "  plt.legend(loc=\"upper right\")\n",
        "  plt.show()\n",
        "\n",
        "\n",
        "def PrintProgress(event, Nevents):\n",
        "  \"Print Funktion um den Fortschritt des Lesens zu sehen\"\n",
        "\n",
        "  percentage = PrintProgress.counter*0.2\n",
        "  if event > percentage*Nevents:\n",
        "    print('   - ',int(percentage*100),'% (',event, 'of', Nevents, 'events processed)')\n",
        "    PrintProgress.counter += 1\n",
        "  if event == Nevents-1:\n",
        "    PrintProgress.counter = 0\n",
        "\n",
        "PrintProgress.counter = 0\n",
        "pathtocsv = 'https://raw.githubusercontent.com/denschwarz/PPT_csv/master/'\n",
        "print(\"defined all functions and variables\")"
      ],
      "execution_count": 17,
      "outputs": [
        {
          "output_type": "stream",
          "name": "stdout",
          "text": [
            "defined all functions and variables\n"
          ]
        }
      ]
    },
    {
      "cell_type": "markdown",
      "metadata": {
        "id": "oi9TVFpCprLN"
      },
      "source": [
        "Nun lesen wir die Daten ein. Die Daten sind [hier](https://github.com/denschwarz/PPT_csv) im CSV Format hochgeladen und wir können sie von dort auslesen.\n",
        "\n",
        "<div>\n",
        "  <center>\n",
        "    <img src=\"https://raw.githubusercontent.com/denschwarz/PPT_csv/master/CSV.png\" width=\"500\"/>\n",
        "  </center>\n",
        "</div>\n",
        "\n"
      ]
    },
    {
      "cell_type": "code",
      "metadata": {
        "id": "p_C0pL0wpt-W",
        "colab": {
          "base_uri": "https://localhost:8080/"
        },
        "outputId": "55214a8f-e431-4da7-b6b0-97dd9a85545e"
      },
      "source": [
        "### Einlesen der Daten\n",
        "Data_lepEnergy = []\n",
        "Data_lepPt     = []\n",
        "\n",
        "Data_files = [\n",
        "    'DATA_Elektron_2011.csv',\n",
        "    'DATA_Myon_2011.csv',\n",
        "    'DATA_Elektron_2012.csv',\n",
        "    'DATA_Myon_2012.csv'\n",
        "]\n",
        "for filename in Data_files:\n",
        "  print('start with', filename)\n",
        "  data = pd.read_csv(pathtocsv+filename, header=None)\n",
        "  Nevents = len(data)\n",
        "  for event in range(Nevents):\n",
        "    PrintProgress(event,Nevents)\n",
        "\n",
        "    ### Hier steht der eigentliche Analyse-Code\n",
        "\n",
        "    # Leptonen einlesen\n",
        "    leptons = ReadLeptons(data, event)\n",
        "    # Energie und pt des ersten Leptons auslesen\n",
        "    E  = Energy(leptons[0])\n",
        "    pt = Pt(leptons[0])\n",
        "    # Energie und pt des ersten Leptons in Listen speichern\n",
        "    Data_lepEnergy.append(E)\n",
        "    Data_lepPt.append(pt)\n",
        "\n",
        "    #########\n",
        "\n",
        "  print('   - done')\n"
      ],
      "execution_count": 6,
      "outputs": [
        {
          "output_type": "stream",
          "name": "stdout",
          "text": [
            "start with DATA_Elektron_2011.csv\n",
            "   -  0 % ( 1 of 7 events processed)\n",
            "   -  20 % ( 2 of 7 events processed)\n",
            "   -  40 % ( 3 of 7 events processed)\n",
            "   -  60 % ( 5 of 7 events processed)\n",
            "   -  80 % ( 6 of 7 events processed)\n",
            "   - done\n",
            "start with DATA_Myon_2011.csv\n",
            "   -  0 % ( 1 of 31 events processed)\n",
            "   -  20 % ( 7 of 31 events processed)\n",
            "   -  40 % ( 13 of 31 events processed)\n",
            "   -  60 % ( 19 of 31 events processed)\n",
            "   -  80 % ( 25 of 31 events processed)\n",
            "   - done\n",
            "start with DATA_Elektron_2012.csv\n",
            "   -  0 % ( 1 of 41 events processed)\n",
            "   -  20 % ( 9 of 41 events processed)\n",
            "   -  40 % ( 17 of 41 events processed)\n",
            "   -  60 % ( 25 of 41 events processed)\n",
            "   -  80 % ( 33 of 41 events processed)\n",
            "   - done\n",
            "start with DATA_Myon_2012.csv\n",
            "   -  0 % ( 1 of 199 events processed)\n",
            "   -  20 % ( 40 of 199 events processed)\n",
            "   -  40 % ( 80 of 199 events processed)\n",
            "   -  60 % ( 120 of 199 events processed)\n",
            "   -  80 % ( 160 of 199 events processed)\n",
            "   - done\n"
          ]
        }
      ]
    },
    {
      "cell_type": "markdown",
      "metadata": {
        "id": "Yd0WKCsDsf_c"
      },
      "source": [
        "Jetzt lesen wir simulierte Ereignisse des Prozesses ZZ->4l ein, die der Untergrund dieser Analyse sind.\n",
        "<div>\n",
        "  <center>\n",
        "    <img src=\"https://raw.githubusercontent.com/denschwarz/PPT_csv/master//ZZ.png\" width=\"400\"/>\n",
        "  </center>\n",
        "</div>\n",
        "\n"
      ]
    },
    {
      "cell_type": "code",
      "metadata": {
        "id": "HtJE9SJkp8fP",
        "colab": {
          "base_uri": "https://localhost:8080/"
        },
        "outputId": "99497293-5ead-489c-8cbd-777f659cccd4"
      },
      "source": [
        "### Einlesen von simulierten ZZ-Untergrundereignissen\n",
        "ZZ_lepEnergy = []\n",
        "ZZ_lepPt     = []\n",
        "ZZ_weights   = []\n",
        "\n",
        "\n",
        "ZZ_files = [\n",
        "    'MC_ZZ_2el2mu_2011.csv',\n",
        "    'MC_ZZ_4el_2011.csv',\n",
        "    'MC_ZZ_4mu_2011.csv',\n",
        "    'MC_ZZ_2el2mu_2012.csv',\n",
        "    'MC_ZZ_4el_2012.csv',\n",
        "    'MC_ZZ_4mu_2012.csv',\n",
        "]\n",
        "for filename in ZZ_files:\n",
        "  print('start with', filename)\n",
        "  data = pd.read_csv(pathtocsv+filename, header=None)\n",
        "  Nevents = len(data)\n",
        "  for event in range(Nevents):\n",
        "    PrintProgress(event, Nevents)\n",
        "\n",
        "    ### Hier steht der eigentliche Analyse-Code\n",
        "\n",
        "    # Leptonen einlesen\n",
        "    leptons = ReadLeptons(data, event)\n",
        "    # Energie und pt des ersten Leptons auslesen\n",
        "    E  = Energy(leptons[0])\n",
        "    pt = Pt(leptons[0])\n",
        "    # Energie und pt des ersten Leptons in Listen speichern\n",
        "    ZZ_lepEnergy.append(E)\n",
        "    ZZ_lepPt.append(pt)\n",
        "\n",
        "    # simulierte Ereignisse haben aus technischen Gründen noch ein Gewicht\n",
        "    weight = ReadWeight(data, event)\n",
        "    ZZ_weights.append(weight)\n",
        "    #########\n",
        "\n",
        "  print('   - done')"
      ],
      "execution_count": 19,
      "outputs": [
        {
          "output_type": "stream",
          "name": "stdout",
          "text": [
            "start with MC_ZZ_2el2mu_2011.csv\n",
            "   -  0 % ( 1 of 66122 events processed)\n",
            "   -  20 % ( 13225 of 66122 events processed)\n",
            "   -  40 % ( 26449 of 66122 events processed)\n",
            "   -  60 % ( 39674 of 66122 events processed)\n",
            "   -  80 % ( 52898 of 66122 events processed)\n",
            "   - done\n",
            "start with MC_ZZ_4el_2011.csv\n",
            "   -  0 % ( 1 of 67895 events processed)\n",
            "   -  20 % ( 13580 of 67895 events processed)\n",
            "   -  40 % ( 27159 of 67895 events processed)\n",
            "   -  60 % ( 40738 of 67895 events processed)\n",
            "   -  80 % ( 54317 of 67895 events processed)\n",
            "   - done\n",
            "start with MC_ZZ_4mu_2011.csv\n",
            "   -  0 % ( 1 of 101556 events processed)\n",
            "   -  20 % ( 20312 of 101556 events processed)\n",
            "   -  40 % ( 40623 of 101556 events processed)\n",
            "   -  60 % ( 60934 of 101556 events processed)\n",
            "   -  80 % ( 81245 of 101556 events processed)\n",
            "   - done\n",
            "start with MC_ZZ_2el2mu_2012.csv\n",
            "   -  0 % ( 1 of 61473 events processed)\n",
            "   -  20 % ( 12295 of 61473 events processed)\n",
            "   -  40 % ( 24590 of 61473 events processed)\n",
            "   -  60 % ( 36884 of 61473 events processed)\n",
            "   -  80 % ( 49179 of 61473 events processed)\n",
            "   - done\n",
            "start with MC_ZZ_4el_2012.csv\n",
            "   -  0 % ( 1 of 60435 events processed)\n",
            "   -  20 % ( 12088 of 60435 events processed)\n",
            "   -  40 % ( 24175 of 60435 events processed)\n",
            "   -  60 % ( 36262 of 60435 events processed)\n",
            "   -  80 % ( 48349 of 60435 events processed)\n",
            "   - done\n",
            "start with MC_ZZ_4mu_2012.csv\n",
            "   -  0 % ( 1 of 97214 events processed)\n",
            "   -  20 % ( 19443 of 97214 events processed)\n",
            "   -  40 % ( 38886 of 97214 events processed)\n",
            "   -  60 % ( 58329 of 97214 events processed)\n",
            "   -  80 % ( 77772 of 97214 events processed)\n",
            "   - done\n"
          ]
        }
      ]
    },
    {
      "cell_type": "markdown",
      "metadata": {
        "id": "MK_yNY9Gp-Rg"
      },
      "source": [
        "Zuletzt lesen wir simulierte Higgs->4l Ereignisse ein, welche das gesuchte Signal darstellen.\n",
        "\n",
        "<div>\n",
        "  <center>\n",
        "    <img src=\"https://raw.githubusercontent.com/denschwarz/PPT_csv/master/Higgs4l.png\" width=\"400\"/>\n",
        "  </center>\n",
        "</div>"
      ]
    },
    {
      "cell_type": "code",
      "metadata": {
        "id": "pUj41hDtqGFC",
        "colab": {
          "base_uri": "https://localhost:8080/"
        },
        "outputId": "a35caaa2-1166-4be2-d03f-9a3938d624e8"
      },
      "source": [
        "### Einlesen von simulierten Higgs-Ereignisse\n",
        "Higgs_lepEnergy = []\n",
        "Higgs_lepPt     = []\n",
        "Higgs_weights   = []\n",
        "\n",
        "Higgs_files = [\n",
        "    'MC_Higgs_2011.csv',\n",
        "    'MC_Higgs_2012.csv',\n",
        "]\n",
        "for filename in Higgs_files:\n",
        "  print('start with', filename)\n",
        "  data = pd.read_csv(pathtocsv+filename, header=None)\n",
        "  Nevents = len(data)\n",
        "  for event in range(Nevents):\n",
        "    PrintProgress(event, Nevents)\n",
        "\n",
        "    ### Hier steht der eigentliche Analyse-Code\n",
        "    leptons = ReadLeptons(data, event)\n",
        "\n",
        "    # Fügt hier den Code hinzu, um Energie und pt des\n",
        "    # ersten Leptons auszulesen und zu speichern\n",
        "    # >>>\n",
        "\n",
        "    # <<<\n",
        "\n",
        "    # Denkt auch daran, die Liste mit den weights zu füllen\n",
        "    weight = ReadWeight(data, event)\n",
        "    # >>>\n",
        "\n",
        "    # <<<\n",
        "\n",
        "    #########\n",
        "\n",
        "  print('   - done')"
      ],
      "execution_count": 7,
      "outputs": [
        {
          "output_type": "stream",
          "name": "stdout",
          "text": [
            "start with MC_Higgs_2011.csv\n",
            "   -  0 % ( 1 of 39062 events processed)\n",
            "   -  20 % ( 7813 of 39062 events processed)\n",
            "   -  40 % ( 15625 of 39062 events processed)\n",
            "   -  60 % ( 23438 of 39062 events processed)\n",
            "   -  80 % ( 31250 of 39062 events processed)\n",
            "   - done\n",
            "start with MC_Higgs_2012.csv\n",
            "   -  0 % ( 1 of 31890 events processed)\n",
            "   -  20 % ( 6379 of 31890 events processed)\n",
            "   -  40 % ( 12757 of 31890 events processed)\n",
            "   -  60 % ( 19135 of 31890 events processed)\n",
            "   -  80 % ( 25513 of 31890 events processed)\n",
            "   - done\n"
          ]
        }
      ]
    },
    {
      "cell_type": "markdown",
      "metadata": {
        "id": "LKDWLAbPqPnX"
      },
      "source": [
        "Nun können wir Energie und Impuls mit der oben definierten ,`plot`-Funktion histogrammieren. Diese Funktion braucht folgende Argumente:\n",
        "\n",
        "*   nbins: Anzahl der Bins (Intervalle)\n",
        "*   min: Minimum\n",
        "*   max: Maximum\n",
        "*   data: Liste der Messwerte in Daten\n",
        "*   mcdatalist: Liste der Messwerte in Simulation\n",
        "*   weights: Liste der Gewichte in Simulation\n",
        "*   labels: Liste der Labels für Simulation\n",
        "*   xlabel: Beschriftung der x-Achse\n",
        "\n",
        "`plot(nbins, min, max, data, mcdatalist, weights, labels, xlabel)`\n",
        "\n"
      ]
    },
    {
      "cell_type": "code",
      "metadata": {
        "id": "FbxituFxddwz",
        "colab": {
          "base_uri": "https://localhost:8080/",
          "height": 881
        },
        "outputId": "17c67b54-80b4-478e-e608-2bc4c9db5321"
      },
      "source": [
        "weights = [ ZZ_weights, Higgs_weights]\n",
        "labels = [ \"ZZ\", \"Higgs\" ]\n",
        "plot(20, 0, 400, Data_lepEnergy, [ZZ_lepEnergy, Higgs_lepEnergy], weights, labels , \"1st Lepton energy (GeV)\")\n",
        "plot(20, 0, 200, Data_lepPt, [ZZ_lepPt, Higgs_lepPt], weights, labels, \"1st Lepton pT (GeV)\")\n"
      ],
      "execution_count": 18,
      "outputs": [
        {
          "output_type": "display_data",
          "data": {
            "text/plain": [
              "<Figure size 640x480 with 1 Axes>"
            ],
            "image/png": "[encoded data removed]"
          },
          "metadata": {}
        },
        {
          "output_type": "display_data",
          "data": {
            "text/plain": [
              "<Figure size 640x480 with 1 Axes>"
            ],
            "image/png": "[encoded data removed]"
          },
          "metadata": {}
        }
      ]
    },
    {
      "cell_type": "markdown",
      "source": [
        "Jetzt seid Ihr dran!\n",
        "\n",
        "1) Ergänzt den obigen Code, um auch Energie und pt des ersten Leptons in Higgs-Ereignissen zu speichern. Wie ändern sich die Histogramme?\n",
        "  - Kann man Higgs-Ereignisse von ZZ-Untergrundereignissen unterscheiden?\n",
        "  - Enthalten die Daten Higgs-Ereignisse?\n",
        "  - Stimmen die Daten mit der Simulation überein?\n",
        "\n",
        "2) Erstelle ein Histogramm der invarianten Masse. Kann man hier Higgs-Ereignisse von ZZ-Untergrundereignissen unterscheiden?"
      ],
      "metadata": {
        "id": "rR-HUEUnP5Il"
      }
    },
    {
      "cell_type": "code",
      "source": [],
      "metadata": {
        "id": "lLIfXZOGOoac"
      },
      "execution_count": null,
      "outputs": []
    }
  ]
}