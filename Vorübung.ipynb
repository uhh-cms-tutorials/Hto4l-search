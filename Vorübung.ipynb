{
  "nbformat": 4,
  "nbformat_minor": 0,
  "metadata": {
    "colab": {
      "provenance": []
    },
    "kernelspec": {
      "name": "python3",
      "display_name": "Python 3"
    }
  },
  "cells": [
    {
      "cell_type": "markdown",
      "metadata": {
        "id": "UhbdgpDTpEFG"
      },
      "source": [
        "Zunächst müssen einige Pakete eingelesen werden, die wir später brauchen werden. Mit Hilfe dieser Pakete können wir z.B. die Daten auslesen und Graphen erstellen."
      ]
    },
    {
      "cell_type": "code",
      "metadata": {
        "id": "jLfxJgdipDEI"
      },
      "source": [
        "import numpy as np\n",
        "import math\n",
        "import matplotlib.pyplot as plt\n",
        "import pandas as pd\n",
        "\n"
      ],
      "execution_count": 1,
      "outputs": []
    },
    {
      "cell_type": "markdown",
      "metadata": {
        "id": "oi9TVFpCprLN"
      },
      "source": [
        "Schauen wir uns nun einmal die Daten genauer an. Sie sind [hier](https://github.com/uhh-cms-tutorials/Hto4l-search/blob/main/data/DATA_Elektron_2011.csv) im CSV Format hochgeladen und wir können sie von dort auslesen.\n",
        "\n",
        "<div>\n",
        "  <center>\n",
        "    <img src=\"https://raw.githubusercontent.com/uhh-cms-tutorials/Hto4l-search/refs/heads/main/data/CSV.png\" width=\"500\"/>\n",
        "  </center>\n",
        "</div>\n",
        "Auf dem Bild erkennt man die Struktur der Daten: sie liegen als Tabelle im sog. CSV-Format vor, wobei jede Zeile einem Kollisionsereignis (\"Event\") entspricht. In jeder Zeile stehen dort die drei Impulskomponenten und die Energie von allen vier Leptonen (Elektronen oder Myonen) im Ereignis.\n",
        "\n"
      ]
    },
    {
      "cell_type": "code",
      "metadata": {
        "id": "p_C0pL0wpt-W"
      },
      "source": [
        "### Hier laden wir die Daten ein\n",
        "data = pd.read_csv(\"https://raw.githubusercontent.com/uhh-cms-tutorials/Hto4l-search/refs/heads/main/data/DATA_Elektron_2011.csv\", header=None)\n",
        "\n"
      ],
      "execution_count": 2,
      "outputs": []
    },
    {
      "cell_type": "markdown",
      "source": [
        "Jetzt können wir uns die Daten einmal genauer ansehen. Wenn wir auf ein einzelnes Event zugreifen wollen, können wir dies mit `data.values[nummer des events][Elektronkomponente]`. Für die beiden Werte in den eckigen Klammern müssen Zahlen eingetzt werden. Zu beachten ist dabei, dass diese bei Null anfangen. Für die Elektronkomponente gilt:\n",
        "\n",
        " * 0 = Impuls von Elektron 1 in x Richtung\n",
        " * 1 = Impuls von Elektron 1 in y Richtung\n",
        " * 2 = Impuls von Elektron 1 in z Richtung\n",
        " * 3 = Energie von Elektron 1\n",
        " * 4 = Impuls von Elektron 2 in x Richtung\n",
        " * usw.\n",
        "\n",
        "Wenn uns also der Impuls in x Richtung vom ersten Elektron im ersten Event interessiert, dann greifen wir mit `data.values[0][0]` darauf zu:\n",
        "\n",
        "\n",
        "\n",
        "\n",
        "\n",
        "\n"
      ],
      "metadata": {
        "id": "eiu4yDYHHFIz"
      }
    },
    {
      "cell_type": "code",
      "source": [
        "print(data.values[0][0])"
      ],
      "metadata": {
        "id": "_cuL6rsRJig1",
        "colab": {
          "base_uri": "https://localhost:8080/"
        },
        "outputId": "26a03692-1d6e-498e-e438-eaa494eea2f3"
      },
      "execution_count": 3,
      "outputs": [
        {
          "output_type": "stream",
          "name": "stdout",
          "text": [
            "-45.4721\n"
          ]
        }
      ]
    },
    {
      "cell_type": "markdown",
      "source": [
        "An dieser Stelle bietet es sich an, sich mit dieser Funktion etwas vertraut zu machen. Wie sähe der entsprechende Code z.B. für die z-Komponente des zweiten Elektrons im dritten Event aus? Der Code kann einfach bearbeitet, verändert und erweitert werden."
      ],
      "metadata": {
        "id": "PO2t8LT-Js9B"
      }
    },
    {
      "cell_type": "markdown",
      "source": [
        "Nachdem wir nun also einzelne Impuls- und Energiewerte aus unserem Datensatz ausgelesen haben, können wir versuchen, ein wenig damit zu rechnen. Wir können z.B. den Betrag des Gesamtimpulses des ersten Elektrons im ersten Event berechnen. Hierfür brauchen wir zunächste die einzelnen Impulskomponenten:"
      ],
      "metadata": {
        "id": "BYHYPLO8KFK3"
      }
    },
    {
      "cell_type": "code",
      "source": [
        "print(\"Impuls in x-Richtung:\", data.values[0][0])\n",
        "print(\"Impuls in y-Richtung:\", data.values[0][1])\n",
        "print(\"Impuls in z-Richtung:\", data.values[0][2])"
      ],
      "metadata": {
        "id": "9XFxpKHtKjQn",
        "colab": {
          "base_uri": "https://localhost:8080/"
        },
        "outputId": "fa4ee208-829b-40f1-cb39-e52f323481d8"
      },
      "execution_count": 4,
      "outputs": [
        {
          "output_type": "stream",
          "name": "stdout",
          "text": [
            "Impuls in x-Richtung: -45.4721\n",
            "Impuls in y-Richtung: -8.6101\n",
            "Impuls in z-Richtung: -1.24072\n"
          ]
        }
      ]
    },
    {
      "cell_type": "markdown",
      "source": [
        "Dies sind die drei Komponenten des Impulsvektors. Für den Gesamtimpuls müssen wir die Länge des Impulsvektors ermitteln. Laut analytischer Geometrie kann man dies mit $\\sqrt{p_x^2+p_y^2+p_z^2}$ machen. Was ergibt sich damit für das untersuchte Elektron für ein Gesamtimpuls?"
      ],
      "metadata": {
        "id": "OP6tkzCoKwOC"
      }
    },
    {
      "cell_type": "markdown",
      "source": [
        "Um nicht jedes mal einen Taschenrechner bemühen zu müssen, definieren wir uns nun eine Funktion, die genau das macht:"
      ],
      "metadata": {
        "id": "R2Mo8BtSLtW4"
      }
    },
    {
      "cell_type": "code",
      "source": [
        "def Gesamtimpuls_Elektron_0(event_idx):\n",
        "  \"\"\"\n",
        "  Berechnet den Gesamptimpuls des ersten Elektrons im Event mit Nummer `event_idx`.\n",
        "  \"\"\"\n",
        "  px = data.values[event_idx][0]\n",
        "  py = data.values[event_idx][1]\n",
        "  pz = data.values[event_idx][2]\n",
        "  p  = math.sqrt( px**2 + py**2 + pz**2)\n",
        "\n",
        "  return p"
      ],
      "metadata": {
        "id": "CI2Zawr4L9jQ"
      },
      "execution_count": 5,
      "outputs": []
    },
    {
      "cell_type": "markdown",
      "source": [
        "Die erste Zeile zeigt an, dass hier eine neue Funktion definiert wird (mit dem Befehl `def`). Die Funktion hat ein Argument: die Nummer des Events, in dem wir den Gesamtimpuls des ersten Elektrons berechnen wollen. In den folgenden, eingerückten Zeilen wird dann der Gesamtipuls berechnet. Die Funktion `math.sqrt` berechnet die Wurzel und `**2` steht für \"hoch 2\". Zuletzt wird dann der Gesamtimpuls mit `return` zurückgegeben.\n",
        "\n",
        "Jetzt können wir die Funktion testen, indem wir als Argument das erste Event einsetzten. Stimmt der Wert mit dem vorher berechneten überein?"
      ],
      "metadata": {
        "id": "DsbZnI2rNDNJ"
      }
    },
    {
      "cell_type": "code",
      "source": [
        "print(Gesamtimpuls_Elektron_0(0))"
      ],
      "metadata": {
        "id": "LzG-MYeiNoYQ",
        "colab": {
          "base_uri": "https://localhost:8080/"
        },
        "outputId": "a9cf7285-4919-470f-9c5c-fcec7212bde2"
      },
      "execution_count": 6,
      "outputs": [
        {
          "output_type": "stream",
          "name": "stdout",
          "text": [
            "46.296707080940436\n"
          ]
        }
      ]
    },
    {
      "cell_type": "markdown",
      "source": [
        "Da für eine Analyse meist nicht nur ein Event betrachtet wird, sondern sehr viele, lohnt es sich oft, eine so genannte for-Schleife zu benutzen. In einer Schleife wird ein Codeblock mehrmals ausgeführt bis eine gewisse Bedingung erfüllt ist."
      ],
      "metadata": {
        "id": "XQulOrroN_2N"
      }
    },
    {
      "cell_type": "code",
      "source": [
        "Summe = 0\n",
        "for i in range(5):\n",
        "  p = Gesamtimpuls_Elektron_0(i)\n",
        "  print(f\"Impuls im Event {i}: {p}\")\n",
        "  Summe += p\n",
        "\n",
        "print(\"Durchschnittlicher Impuls: \", Summe/5)"
      ],
      "metadata": {
        "id": "ExshNCoBUj6T",
        "colab": {
          "base_uri": "https://localhost:8080/"
        },
        "outputId": "1afa2042-9ab0-47d0-a922-620b3839fd0b"
      },
      "execution_count": 7,
      "outputs": [
        {
          "output_type": "stream",
          "name": "stdout",
          "text": [
            "Impuls im Event 0: 46.296707080940436\n",
            "Impuls im Event 1: 352.096820717592\n",
            "Impuls im Event 2: 49.675682378201905\n",
            "Impuls im Event 3: 112.0389724192881\n",
            "Impuls im Event 4: 87.62805566403947\n",
            "Durchschnittlicher Impuls:  129.54724765201237\n"
          ]
        }
      ]
    },
    {
      "cell_type": "markdown",
      "source": [
        "In diesem Fall wird für wird der Gesamtimpuls jeweils für die Events 0-4 berechnet. Außerdem wird zu der Variablen \"Summe\" jedes mal der aktuelle Gesamtimpuls hinzuaddiert, sodass am Ende der durchschnitlliche Impuls ausgerechnet werden kann. Auch hier bieten sich einige Modifikationen an. Z.B. kann die Anzahl der Events verändert werden, über die die Schleife läuft, oder zusätzlich die Durchschnittsenergie berechnet werden."
      ],
      "metadata": {
        "id": "1csk1RXyU4k0"
      }
    },
    {
      "cell_type": "markdown",
      "source": [
        "Im nächsten Block werden für die ersten 5 Events jeweils die Gesamtimpulse und die Gesamtenergien aller vier Elektronen zusammen ausgerechnet. Dies ist aus folgendem Grund interessant: wenn wir davon ausgehen, dass die vier Elektronen durch den Zerfall eines gemeinsamen Ursprungsteilchens entstanden sind, entsprechen dessen Impuls und Energie genau dem Gesamtimpuls bzw. der Gesamtenergie.\n",
        "\n",
        "Merke: wir addieren die Impulse komponentenweise, also addieren die px aller vier Elektronen, dann die py aller vier Elektronen usw., um jeweils den Gesamptimpuls in x-Richtung bzw. in y-Richtung zu erhalten.\n",
        "\n",
        "Abschließend wird die sog. \"invariante Masse\" bestimmt, für die die Bewegungsenergie und die Ruheenergie berücksichtigt wird. Dies entspricht der Ruhemasse des hypothetischen Ursprungsteilchens."
      ],
      "metadata": {
        "id": "tDKWjwxGFUCE"
      }
    },
    {
      "cell_type": "code",
      "source": [
        "for i in range(5):\n",
        "  px = data.values[i][0] + data.values[i][4] + data.values[i][8]  + data.values[i][12]\n",
        "  py = data.values[i][1] + data.values[i][5] + data.values[i][9]  + data.values[i][13]\n",
        "  pz = data.values[i][2] + data.values[i][6] + data.values[i][10] + data.values[i][14]\n",
        "  E  = data.values[i][3] + data.values[i][7] + data.values[i][11] + data.values[i][15]\n",
        "  M  = math.sqrt(abs( E**2 - px**2 - py**2 - pz**2 ))\n",
        "  print(f\"Event {i}:\")\n",
        "  print(f\"  px = {px}\")\n",
        "  print(f\"  py = {py}\")\n",
        "  print(f\"  pz = {pz}\")\n",
        "  print(f\"  E  = {E}\")\n",
        "  print(f\"  --> invariante Masse = {M}\\n\")"
      ],
      "metadata": {
        "id": "7GeAtiCyOcoM",
        "colab": {
          "base_uri": "https://localhost:8080/"
        },
        "outputId": "f031182d-28c3-442e-e771-05d9a8384ed9"
      },
      "execution_count": 8,
      "outputs": [
        {
          "output_type": "stream",
          "name": "stdout",
          "text": [
            "Event 0:\n",
            "  px = -15.700104799999995\n",
            "  py = -6.618170000000001\n",
            "  pz = 8.758109\n",
            "  E  = 126.98151000000001\n",
            "  --> invariante Masse = 125.5281081819699\n",
            "\n",
            "Event 1:\n",
            "  px = 27.903409999999997\n",
            "  py = -8.187620000000003\n",
            "  pz = 610.2179\n",
            "  E  = 674.5255000000001\n",
            "  --> invariante Masse = 285.9600098946488\n",
            "\n",
            "Event 2:\n",
            "  px = -4.776374000000004\n",
            "  py = 4.770209999999996\n",
            "  pz = -62.84782999999999\n",
            "  E  = 197.3137\n",
            "  --> invariante Masse = 186.91516209218855\n",
            "\n",
            "Event 3:\n",
            "  px = -5.94032\n",
            "  py = -0.5944099999999972\n",
            "  pz = 125.46560999999998\n",
            "  E  = 161.12920000000003\n",
            "  --> invariante Masse = 100.92253997505915\n",
            "\n",
            "Event 4:\n",
            "  px = 14.194280999999995\n",
            "  py = 33.57813000000001\n",
            "  pz = -127.78685\n",
            "  E  = 163.59879999999998\n",
            "  --> invariante Masse = 95.42599174812716\n",
            "\n"
          ]
        }
      ]
    },
    {
      "cell_type": "markdown",
      "source": [
        "Aus dem oberen Code wird schnell klar, dass der Zugriff auf die einzelnen Eigenschaften der Elektronen recht schnell unübersichtlich wird. Deshalb ist es nützlich, eine Funktion zu schreiben, die bei Bedarf die Eigenschaften des ersten, zweiten, dritten und vierten Elektrons ganz einfach direkt auslesen kann, z.B. so:\n"
      ],
      "metadata": {
        "id": "Hr8GZemF7qGJ"
      }
    },
    {
      "cell_type": "code",
      "source": [
        "#Wir definieren eine Funktion mit dem Namen \"ElektronenEinlesen\" die als Argument eine Zahl \"i\" entgegen nimmt. i steht für die Eventnummer.\n",
        "def ElektronenEinlesen(i):\n",
        "  Elektron1 = np.array([ data.values[i][0],  data.values[i][1],  data.values[i][2],  data.values[i][3] ])\n",
        "  Elektron2 = np.array([ data.values[i][4],  data.values[i][5],  data.values[i][6],  data.values[i][7] ])\n",
        "  Elektron3 = np.array([ data.values[i][8],  data.values[i][9],  data.values[i][10], data.values[i][11] ])\n",
        "  Elektron4 = np.array([ data.values[i][12], data.values[i][13], data.values[i][14], data.values[i][15] ])\n",
        "\n",
        "  return [ Elektron1, Elektron2, Elektron3, Elektron4 ]\n",
        "\n",
        "#Hier rufen wir die Funktionen ElektronenEinlesen mit dem Argument 0 auf. Überall wo oben ein i auftaucht wird bei diesem Durchlauf also eine 0 eingesetzt\n",
        "print(ElektronenEinlesen(0))\n"
      ],
      "metadata": {
        "id": "RLNi6PYh8i70",
        "colab": {
          "base_uri": "https://localhost:8080/"
        },
        "outputId": "d6e4e734-9933-485c-f588-bfca436ab0f3"
      },
      "execution_count": 9,
      "outputs": [
        {
          "output_type": "stream",
          "name": "stdout",
          "text": [
            "[array([-45.4721 ,  -8.6101 ,  -1.24072,  46.2967 ]), array([43.5367  , 14.3708  , -0.940301, 45.8568  ]), array([-13.6734, -19.6597,  13.0164,  27.2561]), array([-0.0913048,  7.28083  , -2.07727  ,  7.57191  ])]\n"
          ]
        }
      ]
    },
    {
      "cell_type": "markdown",
      "source": [
        "Jetzt können wir die für jedes Event die Elektronen säuberlich geordnet als Liste von Listen (\"array\") ausgeben lassen. Im oberen Beispiel passiert dies mit dem ersten Event. Ein vergleich mit den Ergebnissen weiter oben zeigt, dass wir die richtigen Zahlenwerte auslesen.\n",
        "\n",
        "Mit diesen Listen kann man nun weitere nützliche Dinge tun. Zum Beipiel können wir den oben definierten Gesamtimpuls deutlich einfacher ausrechnen, indem wir die Listen miteinander addieren. Wenn man zwei Listen mit `+` zusammenführt, werden jeweils die einzelnen Komponente miteinander addiert.\n",
        "\n",
        "Wenn wir davon ausgehen, dass die vier Elektronen alle aus einem gemeinsamen Ursprungsteilchen kommen, können wir dessen Impuls und Energie bestimmen. Diese speichern wir anschließen in neuen Listen (px, py, pz und E) ab. Hierbei kommt zur besseren Übersichtlichkeit die round Funktion zum Einsatz, die die Ergebnisse auf die erste Nachkommastelle rundet."
      ],
      "metadata": {
        "id": "QfKJsbC_BBKL"
      }
    },
    {
      "cell_type": "code",
      "source": [
        "def BerechneUrsprungsteilchen(i):\n",
        "  # Die Elektronen werden mit Hilfe der oben definierten Funktion eingelesen\n",
        "  # und als Array mit dem Namen \"Elektronen\" gespeichert\n",
        "  Elektronen = ElektronenEinlesen(i)\n",
        "\n",
        "  # Ein Array mit den Impulskomponenten und der Energie des Ursprungsteilchens\n",
        "  # wird erstellt und zurückgegeben\n",
        "  Ursprungsteilchen = Elektronen[0]+Elektronen[1]+Elektronen[2]+Elektronen[3]\n",
        "\n",
        "  return Ursprungsteilchen\n",
        "\n",
        "# Damit berechnen wir die Impulse und Gesamtenergien der hypothetischen\n",
        "# Urpsprungsteilchen für mehrere Events\n",
        "for i in range(5):\n",
        "  Ursprungsteilchen = BerechneUrsprungsteilchen(i)\n",
        "  print(f\"Event Nummer: {i}\")\n",
        "  print(f\"  px = {round(Ursprungsteilchen[0],1)}\")\n",
        "  print(f\"  py = {round(Ursprungsteilchen[1],1)}\")\n",
        "  print(f\"  pz = {round(Ursprungsteilchen[2],1)}\")\n",
        "  print(f\"  E  = {round(Ursprungsteilchen[3],1)}\")\n"
      ],
      "metadata": {
        "id": "DcgF3at1BCY2",
        "colab": {
          "base_uri": "https://localhost:8080/"
        },
        "outputId": "0dc53f6a-79f6-4760-eb7d-e2fe35ee4e2d"
      },
      "execution_count": 10,
      "outputs": [
        {
          "output_type": "stream",
          "name": "stdout",
          "text": [
            "Event Nummer: 0\n",
            "  px = -15.7\n",
            "  py = -6.6\n",
            "  pz = 8.8\n",
            "  E  = 127.0\n",
            "Event Nummer: 1\n",
            "  px = 27.9\n",
            "  py = -8.2\n",
            "  pz = 610.2\n",
            "  E  = 674.5\n",
            "Event Nummer: 2\n",
            "  px = -4.8\n",
            "  py = 4.8\n",
            "  pz = -62.8\n",
            "  E  = 197.3\n",
            "Event Nummer: 3\n",
            "  px = -5.9\n",
            "  py = -0.6\n",
            "  pz = 125.5\n",
            "  E  = 161.1\n",
            "Event Nummer: 4\n",
            "  px = 14.2\n",
            "  py = 33.6\n",
            "  pz = -127.8\n",
            "  E  = 163.6\n"
          ]
        }
      ]
    },
    {
      "cell_type": "markdown",
      "source": [
        "An dieser Stelle kann bietet es sich an, die invariante Masse, die wir weiter oben bereits kennengelernt haben, direkt aus dem Ursprungsteilchen zu berechnen. Dazu kann die folgende Funktion vervollständigt werden, in der zunächst die Funktion `BerechneUrsprungsteilchen` genutzt wird, um den Impuls und die Energie des Ursprungsteilchens zu bestimmen und anschließend:"
      ],
      "metadata": {
        "id": "owSRzBKsErSR"
      }
    },
    {
      "cell_type": "code",
      "source": [
        "def BerechneInvarianteMasse(i):\n",
        "  # Zunächst holen wir uns das Urpsprungsteilchen\n",
        "  Ursprungsteilchen = BerechneUrsprungsteilchen(i)\n",
        "\n",
        "  # Hier muss nun der Code erweitert werden, um die tatsächliche invariante\n",
        "  # Masse des Urpsrungsteilchens zu berechnen. Im Moment ist als Platzhalter\n",
        "  # 1 eingetragen.\n",
        "  M = 1.\n",
        "\n",
        "  return M\n",
        "\n",
        "print(\"Invariante Masse des Ursprungsteilchens:\")\n",
        "for i in range(5):\n",
        "  print(f\"Event {i}: M = {BerechneInvarianteMasse(i)}\")"
      ],
      "metadata": {
        "id": "2MhOHPNUCz5A",
        "colab": {
          "base_uri": "https://localhost:8080/"
        },
        "outputId": "ea0bd002-c9e7-425d-8974-e200c507e158"
      },
      "execution_count": 11,
      "outputs": [
        {
          "output_type": "stream",
          "name": "stdout",
          "text": [
            "Invariante Masse des Ursprungsteilchens:\n",
            "Event 0: M = 1.0\n",
            "Event 1: M = 1.0\n",
            "Event 2: M = 1.0\n",
            "Event 3: M = 1.0\n",
            "Event 4: M = 1.0\n"
          ]
        }
      ]
    },
    {
      "cell_type": "markdown",
      "source": [
        "Betrachten wir nun noch einmal die Komponenten des Impulses in x-, y- und z-Richtung des Ursprungsteilchens. Was fällt beim Vergleich auf?"
      ],
      "metadata": {
        "id": "_KkjDGbKGfAb"
      }
    }
  ]
}